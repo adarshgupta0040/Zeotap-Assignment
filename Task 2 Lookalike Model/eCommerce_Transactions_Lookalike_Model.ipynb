{
  "nbformat": 4,
  "nbformat_minor": 0,
  "metadata": {
    "colab": {
      "provenance": []
    },
    "kernelspec": {
      "name": "python3",
      "display_name": "Python 3"
    },
    "language_info": {
      "name": "python"
    }
  },
  "cells": [
    {
      "cell_type": "code",
      "execution_count": 13,
      "metadata": {
        "id": "_geH0dHgbtaD"
      },
      "outputs": [],
      "source": [
        "import pandas as pd\n",
        "import numpy as np\n",
        "import matplotlib.pyplot as plt\n",
        "import seaborn as sns\n",
        "from sklearn.preprocessing import StandardScaler\n",
        "from sklearn.metrics.pairwise import cosine_similarity"
      ]
    },
    {
      "cell_type": "code",
      "source": [
        "Customers_file_url = \"https://drive.google.com/uc?id=1bu_--mo79VdUG9oin4ybfFGRUSXAe-WE\"\n",
        "\n",
        "customers = pd.read_csv(Customers_file_url)\n",
        "\n",
        "# Display the DataFrame\n",
        "print(customers.head())"
      ],
      "metadata": {
        "colab": {
          "base_uri": "https://localhost:8080/"
        },
        "id": "kVd2R5d8bxiY",
        "outputId": "2cc2db90-2d1b-4985-82a8-8f4ca48a474d"
      },
      "execution_count": 3,
      "outputs": [
        {
          "output_type": "stream",
          "name": "stdout",
          "text": [
            "  CustomerID        CustomerName         Region  SignupDate\n",
            "0      C0001    Lawrence Carroll  South America  2022-07-10\n",
            "1      C0002      Elizabeth Lutz           Asia  2022-02-13\n",
            "2      C0003      Michael Rivera  South America  2024-03-07\n",
            "3      C0004  Kathleen Rodriguez  South America  2022-10-09\n",
            "4      C0005         Laura Weber           Asia  2022-08-15\n"
          ]
        }
      ]
    },
    {
      "cell_type": "code",
      "source": [
        "file1_url = \"https://drive.google.com/uc?id=1IKuDizVapw-hyktwfpoAoaGtHtTNHfd0\"\n",
        "file2_url = \"https://drive.google.com/uc?id=1saEqdbBB-vuk2hxoAf4TzDEsykdKlzbF\"\n",
        "\n",
        "products = pd.read_csv(file1_url)\n",
        "\n",
        "print(products.head())"
      ],
      "metadata": {
        "colab": {
          "base_uri": "https://localhost:8080/"
        },
        "id": "CBETHjHTbzSy",
        "outputId": "20c0551e-b702-48e0-8af4-be3ed067b669"
      },
      "execution_count": 4,
      "outputs": [
        {
          "output_type": "stream",
          "name": "stdout",
          "text": [
            "  ProductID              ProductName     Category   Price\n",
            "0      P001     ActiveWear Biography        Books  169.30\n",
            "1      P002    ActiveWear Smartwatch  Electronics  346.30\n",
            "2      P003  ComfortLiving Biography        Books   44.12\n",
            "3      P004            BookWorld Rug   Home Decor   95.69\n",
            "4      P005          TechPro T-Shirt     Clothing  429.31\n"
          ]
        }
      ]
    },
    {
      "cell_type": "code",
      "source": [
        "transactions = pd.read_csv(file2_url)\n",
        "print( transactions.head())"
      ],
      "metadata": {
        "colab": {
          "base_uri": "https://localhost:8080/"
        },
        "id": "sIQoKMixb1Pi",
        "outputId": "83083032-be5c-4fa6-bca4-90f4bf027f3b"
      },
      "execution_count": 5,
      "outputs": [
        {
          "output_type": "stream",
          "name": "stdout",
          "text": [
            "  TransactionID CustomerID ProductID      TransactionDate  Quantity  \\\n",
            "0        T00001      C0199      P067  2024-08-25 12:38:23         1   \n",
            "1        T00112      C0146      P067  2024-05-27 22:23:54         1   \n",
            "2        T00166      C0127      P067  2024-04-25 07:38:55         1   \n",
            "3        T00272      C0087      P067  2024-03-26 22:55:37         2   \n",
            "4        T00363      C0070      P067  2024-03-21 15:10:10         3   \n",
            "\n",
            "   TotalValue   Price  \n",
            "0      300.68  300.68  \n",
            "1      300.68  300.68  \n",
            "2      300.68  300.68  \n",
            "3      601.36  300.68  \n",
            "4      902.04  300.68  \n"
          ]
        }
      ]
    },
    {
      "cell_type": "code",
      "source": [
        "# Merge Datasets\n",
        "merged_data = pd.merge(transactions, customers, on=\"CustomerID\", how=\"left\")\n",
        "merged_data = pd.merge(merged_data, products, on=\"ProductID\", how=\"left\")"
      ],
      "metadata": {
        "id": "RnfeZWQAb8zG"
      },
      "execution_count": 6,
      "outputs": []
    },
    {
      "cell_type": "markdown",
      "source": [
        "Feature Engineering"
      ],
      "metadata": {
        "id": "MTOzdgW9cASi"
      }
    },
    {
      "cell_type": "code",
      "source": [
        "# Total Spending Per Customer\n",
        "customer_spending = (\n",
        "    merged_data.groupby(\"CustomerID\")[\"TotalValue\"]\n",
        "    .sum()\n",
        "    .reset_index()\n",
        "    .rename(columns={\"TotalValue\": \"TotalSpending\"})\n",
        ")"
      ],
      "metadata": {
        "id": "akiemvJYcAs3"
      },
      "execution_count": 7,
      "outputs": []
    },
    {
      "cell_type": "code",
      "source": [
        "# Average Transaction Value\n",
        "avg_transaction_value = (\n",
        "    merged_data.groupby(\"CustomerID\")[\"TotalValue\"]\n",
        "    .mean()\n",
        "    .reset_index()\n",
        "    .rename(columns={\"TotalValue\": \"AvgTransactionValue\"})\n",
        ")"
      ],
      "metadata": {
        "id": "z69NODDLb8wd"
      },
      "execution_count": 8,
      "outputs": []
    },
    {
      "cell_type": "code",
      "source": [
        "# Total Products Purchased\n",
        "total_products = (\n",
        "    merged_data.groupby(\"CustomerID\")[\"Quantity\"]\n",
        "    .sum()\n",
        "    .reset_index()\n",
        "    .rename(columns={\"Quantity\": \"TotalProducts\"})\n",
        ")"
      ],
      "metadata": {
        "id": "q2eJPWJ2b8rB"
      },
      "execution_count": 9,
      "outputs": []
    },
    {
      "cell_type": "code",
      "source": [
        "# Merge Features into Customer Profile\n",
        "customer_features = pd.merge(customer_spending, avg_transaction_value, on=\"CustomerID\")\n",
        "customer_features = pd.merge(customer_features, total_products, on=\"CustomerID\")\n"
      ],
      "metadata": {
        "id": "cqRizdP3b8oC"
      },
      "execution_count": 10,
      "outputs": []
    },
    {
      "cell_type": "code",
      "source": [
        "# Adding Region as a One-Hot Encoded Feature\n",
        "region_encoded = pd.get_dummies(customers[[\"CustomerID\", \"Region\"]], columns=[\"Region\"])\n",
        "customer_features = pd.merge(customer_features, region_encoded, on=\"CustomerID\", how=\"left\")"
      ],
      "metadata": {
        "id": "11wjQtcWcSb2"
      },
      "execution_count": 11,
      "outputs": []
    },
    {
      "cell_type": "code",
      "source": [
        "# Scale Features\n",
        "scaler = StandardScaler()\n",
        "scaled_features = scaler.fit_transform(customer_features.iloc[:, 1:])\n"
      ],
      "metadata": {
        "id": "NscDQuAccSYo"
      },
      "execution_count": 14,
      "outputs": []
    },
    {
      "cell_type": "markdown",
      "source": [
        "**Calculate Similarity**"
      ],
      "metadata": {
        "id": "QhRY1sDTcbkK"
      }
    },
    {
      "cell_type": "code",
      "source": [
        "# Cosine Similarity\n",
        "similarity_matrix = cosine_similarity(scaled_features)\n"
      ],
      "metadata": {
        "id": "-z1-txD9cSU_"
      },
      "execution_count": 16,
      "outputs": []
    },
    {
      "cell_type": "code",
      "source": [
        "# Create Lookalike Recommendations\n",
        "lookalike_map = {}\n",
        "customer_ids = customer_features[\"CustomerID\"].tolist()\n"
      ],
      "metadata": {
        "id": "iGc8odc5cqui"
      },
      "execution_count": 17,
      "outputs": []
    },
    {
      "cell_type": "code",
      "source": [
        "for i, customer_id in enumerate(customer_ids):\n",
        "    # Get Similarity Scores for the Current Customer\n",
        "    similarity_scores = list(enumerate(similarity_matrix[i]))\n",
        "\n",
        "    # Exclude Self and Sort by Similarity\n",
        "    similarity_scores = sorted(\n",
        "        [(customer_ids[j], score) for j, score in similarity_scores if j != i],\n",
        "        key=lambda x: x[1],\n",
        "        reverse=True,\n",
        "    )\n",
        "\n",
        "    # Store Top 3 Recommendations\n",
        "    lookalike_map[customer_id] = similarity_scores[:3]\n",
        "\n"
      ],
      "metadata": {
        "id": "xYfMRmfncqr8"
      },
      "execution_count": 18,
      "outputs": []
    },
    {
      "cell_type": "markdown",
      "source": [
        "Generate Lookalike.csv"
      ],
      "metadata": {
        "id": "W1BeopqJc57M"
      }
    },
    {
      "cell_type": "code",
      "source": [
        "# ------------------------------\n",
        "# Generate Lookalike.csv\n",
        "# ------------------------------\n",
        "\n",
        "# Create Output DataFrame\n",
        "lookalike_data = []\n",
        "\n",
        "for customer_id, recommendations in lookalike_map.items():\n",
        "    for similar_customer, score in recommendations:\n",
        "        lookalike_data.append(\n",
        "            {\"CustomerID\": customer_id, \"SimilarCustomerID\": similar_customer, \"Score\": score}\n",
        "        )\n",
        "\n",
        "lookalike_df = pd.DataFrame(lookalike_data)\n",
        "\n"
      ],
      "metadata": {
        "id": "kEfqrhDXcqpK"
      },
      "execution_count": 19,
      "outputs": []
    },
    {
      "cell_type": "code",
      "source": [
        "# Save the First 20 Customers to Lookalike.csv\n",
        "lookalike_filtered = lookalike_df[lookalike_df[\"CustomerID\"].isin(customer_ids[:20])]\n",
        "lookalike_filtered.to_csv(\"Lookalike.csv\", index=False)\n",
        "\n",
        "print(\"Lookalike.csv generated successfully!\")"
      ],
      "metadata": {
        "colab": {
          "base_uri": "https://localhost:8080/"
        },
        "id": "RbhyY1jGcqmr",
        "outputId": "abfd9de8-5da5-4c37-b23b-316ae5d85b51"
      },
      "execution_count": 20,
      "outputs": [
        {
          "output_type": "stream",
          "name": "stdout",
          "text": [
            "Lookalike.csv generated successfully!\n"
          ]
        }
      ]
    },
    {
      "cell_type": "markdown",
      "source": [
        "**Output for Verification**"
      ],
      "metadata": {
        "id": "LZDI60WwdArC"
      }
    },
    {
      "cell_type": "code",
      "source": [
        "# ------------------------------\n",
        "# Output for Verification\n",
        "# ------------------------------\n",
        "\n",
        "# Display Top 3 Recommendations for the First 20 Customers\n",
        "for customer_id in customer_ids[:20]:\n",
        "    print(f\"CustomerID: {customer_id}\")\n",
        "    print(\"Top 3 Similar Customers:\")\n",
        "    for similar_customer, score in lookalike_map[customer_id]:\n",
        "        print(f\"   - {similar_customer}: {score:.4f}\")\n",
        "    print()"
      ],
      "metadata": {
        "colab": {
          "base_uri": "https://localhost:8080/"
        },
        "id": "0haYRVoEcqju",
        "outputId": "ac854518-be44-4bec-85a7-8f32011ccb4c"
      },
      "execution_count": 21,
      "outputs": [
        {
          "output_type": "stream",
          "name": "stdout",
          "text": [
            "CustomerID: C0001\n",
            "Top 3 Similar Customers:\n",
            "   - C0137: 0.9960\n",
            "   - C0107: 0.9890\n",
            "   - C0152: 0.9846\n",
            "\n",
            "CustomerID: C0002\n",
            "Top 3 Similar Customers:\n",
            "   - C0088: 0.9963\n",
            "   - C0142: 0.9846\n",
            "   - C0043: 0.9682\n",
            "\n",
            "CustomerID: C0003\n",
            "Top 3 Similar Customers:\n",
            "   - C0190: 0.9791\n",
            "   - C0001: 0.9671\n",
            "   - C0133: 0.9607\n",
            "\n",
            "CustomerID: C0004\n",
            "Top 3 Similar Customers:\n",
            "   - C0113: 0.9877\n",
            "   - C0102: 0.9687\n",
            "   - C0012: 0.9674\n",
            "\n",
            "CustomerID: C0005\n",
            "Top 3 Similar Customers:\n",
            "   - C0159: 0.9978\n",
            "   - C0146: 0.9897\n",
            "   - C0186: 0.9872\n",
            "\n",
            "CustomerID: C0006\n",
            "Top 3 Similar Customers:\n",
            "   - C0168: 0.9715\n",
            "   - C0187: 0.9690\n",
            "   - C0171: 0.9594\n",
            "\n",
            "CustomerID: C0007\n",
            "Top 3 Similar Customers:\n",
            "   - C0140: 0.9753\n",
            "   - C0092: 0.9709\n",
            "   - C0193: 0.9589\n",
            "\n",
            "CustomerID: C0008\n",
            "Top 3 Similar Customers:\n",
            "   - C0034: 0.9456\n",
            "   - C0024: 0.9142\n",
            "   - C0194: 0.9107\n",
            "\n",
            "CustomerID: C0009\n",
            "Top 3 Similar Customers:\n",
            "   - C0014: 0.9958\n",
            "   - C0119: 0.9854\n",
            "   - C0060: 0.9837\n",
            "\n",
            "CustomerID: C0010\n",
            "Top 3 Similar Customers:\n",
            "   - C0019: 0.9869\n",
            "   - C0172: 0.9810\n",
            "   - C0199: 0.9721\n",
            "\n",
            "CustomerID: C0011\n",
            "Top 3 Similar Customers:\n",
            "   - C0107: 0.9944\n",
            "   - C0048: 0.9941\n",
            "   - C0001: 0.9748\n",
            "\n",
            "CustomerID: C0012\n",
            "Top 3 Similar Customers:\n",
            "   - C0155: 0.9889\n",
            "   - C0102: 0.9844\n",
            "   - C0169: 0.9836\n",
            "\n",
            "CustomerID: C0013\n",
            "Top 3 Similar Customers:\n",
            "   - C0163: 0.9843\n",
            "   - C0099: 0.9843\n",
            "   - C0155: 0.9835\n",
            "\n",
            "CustomerID: C0014\n",
            "Top 3 Similar Customers:\n",
            "   - C0009: 0.9958\n",
            "   - C0198: 0.9862\n",
            "   - C0060: 0.9775\n",
            "\n",
            "CustomerID: C0015\n",
            "Top 3 Similar Customers:\n",
            "   - C0131: 0.9763\n",
            "   - C0144: 0.9714\n",
            "   - C0058: 0.9713\n",
            "\n",
            "CustomerID: C0016\n",
            "Top 3 Similar Customers:\n",
            "   - C0183: 0.9888\n",
            "   - C0125: 0.9725\n",
            "   - C0026: 0.9638\n",
            "\n",
            "CustomerID: C0017\n",
            "Top 3 Similar Customers:\n",
            "   - C0124: 0.9890\n",
            "   - C0075: 0.9492\n",
            "   - C0057: 0.9087\n",
            "\n",
            "CustomerID: C0018\n",
            "Top 3 Similar Customers:\n",
            "   - C0046: 0.9532\n",
            "   - C0122: 0.9245\n",
            "   - C0059: 0.9143\n",
            "\n",
            "CustomerID: C0019\n",
            "Top 3 Similar Customers:\n",
            "   - C0172: 0.9979\n",
            "   - C0010: 0.9869\n",
            "   - C0199: 0.9669\n",
            "\n",
            "CustomerID: C0020\n",
            "Top 3 Similar Customers:\n",
            "   - C0042: 0.9530\n",
            "   - C0144: 0.8966\n",
            "   - C0131: 0.8954\n",
            "\n"
          ]
        }
      ]
    }
  ]
}